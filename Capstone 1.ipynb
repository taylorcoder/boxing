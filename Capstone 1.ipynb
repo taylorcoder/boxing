{
 "cells": [
  {
   "cell_type": "markdown",
   "metadata": {},
   "source": [
    "## DATA CLEANING"
   ]
  },
  {
   "cell_type": "code",
   "execution_count": 38,
   "metadata": {},
   "outputs": [
    {
     "name": "stdout",
     "output_type": "stream",
     "text": [
      "<class 'pandas.core.frame.DataFrame'>\n",
      "RangeIndex: 387427 entries, 0 to 387426\n",
      "Data columns (total 26 columns):\n",
      "age_A       352888 non-null float64\n",
      "age_B       257935 non-null float64\n",
      "height_A    249246 non-null float64\n",
      "height_B    134640 non-null float64\n",
      "reach_A     112342 non-null float64\n",
      "reach_B     37873 non-null float64\n",
      "stance_A    231009 non-null object\n",
      "stance_B    231009 non-null object\n",
      "weight_A    135573 non-null float64\n",
      "weight_B    130358 non-null float64\n",
      "won_A       387427 non-null int64\n",
      "won_B       387427 non-null int64\n",
      "lost_A      387427 non-null int64\n",
      "lost_B      387427 non-null int64\n",
      "drawn_A     387427 non-null int64\n",
      "drawn_B     387427 non-null int64\n",
      "kos_A       387427 non-null int64\n",
      "kos_B       387348 non-null float64\n",
      "result      387427 non-null object\n",
      "decision    387427 non-null object\n",
      "judge1_A    52248 non-null float64\n",
      "judge1_B    52060 non-null float64\n",
      "judge2_A    70371 non-null float64\n",
      "judge2_B    70032 non-null float64\n",
      "judge3_A    61231 non-null float64\n",
      "judge3_B    61023 non-null float64\n",
      "dtypes: float64(15), int64(7), object(4)\n",
      "memory usage: 76.9+ MB\n",
      "None\n",
      "               age_A          age_B       height_A       height_B  \\\n",
      "count  352888.000000  257935.000000  249246.000000  134640.000000   \n",
      "mean       24.416041      26.583345     172.786657     172.882657   \n",
      "std         6.523590      11.823224       9.130127       9.430631   \n",
      "min       -74.000000     -74.000000       2.000000      15.000000   \n",
      "25%        21.000000      23.000000     166.000000     167.000000   \n",
      "50%        24.000000      26.000000     173.000000     173.000000   \n",
      "75%        27.000000      30.000000     178.000000     179.000000   \n",
      "max      1818.000000    2016.000000     255.000000     255.000000   \n",
      "\n",
      "             reach_A       reach_B       weight_A       weight_B  \\\n",
      "count  112342.000000  37873.000000  135573.000000  130358.000000   \n",
      "mean      178.848605    179.001030     146.340636     147.089484   \n",
      "std        12.002404     14.867537      30.240142      30.624890   \n",
      "min         5.000000      1.000000      10.000000       2.000000   \n",
      "25%       170.000000    171.000000     125.000000     126.000000   \n",
      "50%       178.000000    178.000000     140.000000     140.000000   \n",
      "75%       185.000000    185.000000     160.000000     160.000000   \n",
      "max       456.000000    456.000000     363.000000     450.000000   \n",
      "\n",
      "               won_A          won_B      ...             drawn_A  \\\n",
      "count  387427.000000  387427.000000      ...       387427.000000   \n",
      "mean       23.108438      15.159080      ...            2.826481   \n",
      "std        27.629901      19.938137      ...            5.584610   \n",
      "min         0.000000       0.000000      ...            0.000000   \n",
      "25%         5.000000       2.000000      ...            0.000000   \n",
      "50%        14.000000       8.000000      ...            1.000000   \n",
      "75%        31.000000      21.000000      ...            3.000000   \n",
      "max       332.000000     251.000000      ...           77.000000   \n",
      "\n",
      "             drawn_B          kos_A          kos_B      judge1_A  \\\n",
      "count  387427.000000  387427.000000  387348.000000  52248.000000   \n",
      "mean        2.636375      10.338887       6.234735     62.778901   \n",
      "std         5.027003      12.392049       8.750690     30.337580   \n",
      "min         0.000000       0.000000       0.000000      0.000000   \n",
      "25%         0.000000       2.000000       0.000000     39.000000   \n",
      "50%         1.000000       6.000000       3.000000     59.000000   \n",
      "75%         3.000000      14.000000       9.000000     80.000000   \n",
      "max        76.000000     131.000000     128.000000    540.000000   \n",
      "\n",
      "           judge1_B      judge2_A      judge2_B      judge3_A      judge3_B  \n",
      "count  52060.000000  70371.000000  70032.000000  61231.000000  61023.000000  \n",
      "mean      59.509700     59.560941     56.570411     60.784276     57.995215  \n",
      "std       29.285058     31.021367     30.260935     31.910461     31.170590  \n",
      "min        1.000000      0.000000      0.000000      0.000000      1.000000  \n",
      "25%       37.000000     39.000000     36.000000     39.000000     36.000000  \n",
      "50%       54.000000     58.000000     54.000000     58.000000     54.000000  \n",
      "75%       79.000000     80.000000     75.000000     80.000000     78.000000  \n",
      "max      291.000000    299.000000    294.000000    300.000000    295.000000  \n",
      "\n",
      "[8 rows x 22 columns]\n"
     ]
    },
    {
     "data": {
      "text/html": [
       "<div>\n",
       "<style scoped>\n",
       "    .dataframe tbody tr th:only-of-type {\n",
       "        vertical-align: middle;\n",
       "    }\n",
       "\n",
       "    .dataframe tbody tr th {\n",
       "        vertical-align: top;\n",
       "    }\n",
       "\n",
       "    .dataframe thead th {\n",
       "        text-align: right;\n",
       "    }\n",
       "</style>\n",
       "<table border=\"1\" class=\"dataframe\">\n",
       "  <thead>\n",
       "    <tr style=\"text-align: right;\">\n",
       "      <th></th>\n",
       "      <th>age_A</th>\n",
       "      <th>age_B</th>\n",
       "      <th>height_A</th>\n",
       "      <th>height_B</th>\n",
       "      <th>reach_A</th>\n",
       "      <th>reach_B</th>\n",
       "      <th>weight_A</th>\n",
       "      <th>weight_B</th>\n",
       "      <th>won_A</th>\n",
       "      <th>won_B</th>\n",
       "      <th>lost_A</th>\n",
       "      <th>lost_B</th>\n",
       "      <th>drawn_A</th>\n",
       "      <th>drawn_B</th>\n",
       "      <th>kos_A</th>\n",
       "      <th>kos_B</th>\n",
       "      <th>result</th>\n",
       "      <th>decision</th>\n",
       "    </tr>\n",
       "  </thead>\n",
       "  <tbody>\n",
       "    <tr>\n",
       "      <th>0</th>\n",
       "      <td>35.0</td>\n",
       "      <td>27.0</td>\n",
       "      <td>179.0</td>\n",
       "      <td>175.0</td>\n",
       "      <td>178.0</td>\n",
       "      <td>179.0</td>\n",
       "      <td>160.0</td>\n",
       "      <td>160.0</td>\n",
       "      <td>37.0</td>\n",
       "      <td>49.0</td>\n",
       "      <td>0.0</td>\n",
       "      <td>1.0</td>\n",
       "      <td>0.0</td>\n",
       "      <td>1.0</td>\n",
       "      <td>33.0</td>\n",
       "      <td>34.0</td>\n",
       "      <td>draw</td>\n",
       "      <td>SD</td>\n",
       "    </tr>\n",
       "    <tr>\n",
       "      <th>1</th>\n",
       "      <td>26.0</td>\n",
       "      <td>31.0</td>\n",
       "      <td>175.0</td>\n",
       "      <td>185.0</td>\n",
       "      <td>179.0</td>\n",
       "      <td>185.0</td>\n",
       "      <td>164.0</td>\n",
       "      <td>164.0</td>\n",
       "      <td>48.0</td>\n",
       "      <td>50.0</td>\n",
       "      <td>1.0</td>\n",
       "      <td>2.0</td>\n",
       "      <td>1.0</td>\n",
       "      <td>1.0</td>\n",
       "      <td>34.0</td>\n",
       "      <td>32.0</td>\n",
       "      <td>win_A</td>\n",
       "      <td>UD</td>\n",
       "    </tr>\n",
       "    <tr>\n",
       "      <th>3</th>\n",
       "      <td>25.0</td>\n",
       "      <td>29.0</td>\n",
       "      <td>175.0</td>\n",
       "      <td>174.0</td>\n",
       "      <td>179.0</td>\n",
       "      <td>180.0</td>\n",
       "      <td>155.0</td>\n",
       "      <td>155.0</td>\n",
       "      <td>46.0</td>\n",
       "      <td>31.0</td>\n",
       "      <td>1.0</td>\n",
       "      <td>3.0</td>\n",
       "      <td>1.0</td>\n",
       "      <td>0.0</td>\n",
       "      <td>32.0</td>\n",
       "      <td>19.0</td>\n",
       "      <td>win_A</td>\n",
       "      <td>KO</td>\n",
       "    </tr>\n",
       "    <tr>\n",
       "      <th>6</th>\n",
       "      <td>23.0</td>\n",
       "      <td>31.0</td>\n",
       "      <td>175.0</td>\n",
       "      <td>175.0</td>\n",
       "      <td>179.0</td>\n",
       "      <td>188.0</td>\n",
       "      <td>155.0</td>\n",
       "      <td>155.0</td>\n",
       "      <td>43.0</td>\n",
       "      <td>19.0</td>\n",
       "      <td>1.0</td>\n",
       "      <td>1.0</td>\n",
       "      <td>1.0</td>\n",
       "      <td>2.0</td>\n",
       "      <td>31.0</td>\n",
       "      <td>12.0</td>\n",
       "      <td>win_A</td>\n",
       "      <td>SD</td>\n",
       "    </tr>\n",
       "    <tr>\n",
       "      <th>10</th>\n",
       "      <td>22.0</td>\n",
       "      <td>28.0</td>\n",
       "      <td>175.0</td>\n",
       "      <td>177.0</td>\n",
       "      <td>179.0</td>\n",
       "      <td>175.0</td>\n",
       "      <td>154.0</td>\n",
       "      <td>153.0</td>\n",
       "      <td>40.0</td>\n",
       "      <td>30.0</td>\n",
       "      <td>0.0</td>\n",
       "      <td>4.0</td>\n",
       "      <td>1.0</td>\n",
       "      <td>0.0</td>\n",
       "      <td>29.0</td>\n",
       "      <td>18.0</td>\n",
       "      <td>win_A</td>\n",
       "      <td>TKO</td>\n",
       "    </tr>\n",
       "  </tbody>\n",
       "</table>\n",
       "</div>"
      ],
      "text/plain": [
       "    age_A  age_B  height_A  height_B  reach_A  reach_B  weight_A  weight_B  \\\n",
       "0    35.0   27.0     179.0     175.0    178.0    179.0     160.0     160.0   \n",
       "1    26.0   31.0     175.0     185.0    179.0    185.0     164.0     164.0   \n",
       "3    25.0   29.0     175.0     174.0    179.0    180.0     155.0     155.0   \n",
       "6    23.0   31.0     175.0     175.0    179.0    188.0     155.0     155.0   \n",
       "10   22.0   28.0     175.0     177.0    179.0    175.0     154.0     153.0   \n",
       "\n",
       "    won_A  won_B  lost_A  lost_B  drawn_A  drawn_B  kos_A  kos_B result  \\\n",
       "0    37.0   49.0     0.0     1.0      0.0      1.0   33.0   34.0   draw   \n",
       "1    48.0   50.0     1.0     2.0      1.0      1.0   34.0   32.0  win_A   \n",
       "3    46.0   31.0     1.0     3.0      1.0      0.0   32.0   19.0  win_A   \n",
       "6    43.0   19.0     1.0     1.0      1.0      2.0   31.0   12.0  win_A   \n",
       "10   40.0   30.0     0.0     4.0      1.0      0.0   29.0   18.0  win_A   \n",
       "\n",
       "   decision  \n",
       "0        SD  \n",
       "1        UD  \n",
       "3        KO  \n",
       "6        SD  \n",
       "10      TKO  "
      ]
     },
     "execution_count": 38,
     "metadata": {},
     "output_type": "execute_result"
    }
   ],
   "source": [
    "import pandas as pd\n",
    "import numpy as np\n",
    "import matplotlib.pyplot as plt\n",
    "from scipy.stats.stats import pearsonr\n",
    "\n",
    "# Create dataframe from boxing data csv 'bouts_out_new.csv'\n",
    "\n",
    "df = pd.read_csv('bouts_out_new.csv')\n",
    "\n",
    "# Explore initial state of df\n",
    "\n",
    "print(df.info())\n",
    "print(df.describe())\n",
    "\n",
    "# Limit the Dataframe to those rows where all physical attribute columns are non-null.\n",
    "\n",
    "df = df[df.loc[:,'age_A':'weight_B'].notnull().all(1)]\n",
    "\n",
    "# Create a dictionary with each numerical column name, and the acceptable range of values for that column.\n",
    "\n",
    "num_cols_dict = {col: (df[col].quantile(0.01), df[col].quantile(0.99)) for col in df.describe().columns}\n",
    "\n",
    "# Use the col_ranges dictionary to replace all unacceptable values with NaN, \n",
    "# and then fill the NaN values with the median of each column.\n",
    "\n",
    "for col in num_cols_dict.keys():\n",
    "    df[col] = df[col].where((df[col] >= num_cols_dict[col][0]) & (df[col] <= num_cols_dict[col][1]))\n",
    "    df[col] = df[col].fillna(df[col].median())\n",
    "    \n",
    "# Remove the \"stance\" column, as there are too many null values. \n",
    "# Remove the \"judge\" columns, since the \"result\" column already denotes the winner.\n",
    "\n",
    "df = df.drop(['stance_A','stance_B','judge1_A', 'judge1_B', 'judge2_A', 'judge2_B','judge3_A','judge3_B'], axis=1)\n",
    "\n",
    "# Remove any rows where the \"kos\" for any boxer is greater than his \"wins\"\n",
    "\n",
    "df = df[(df['won_A']>=df['kos_A']) & (df['won_B']>=df['kos_B'])]\n",
    "\n",
    "df.head()"
   ]
  },
  {
   "cell_type": "markdown",
   "metadata": {},
   "source": [
    "## EXPLORATORY DATA ANALYSIS: EXPLORE DISTRIBUTION OF WINS"
   ]
  },
  {
   "cell_type": "code",
   "execution_count": 18,
   "metadata": {
    "scrolled": true
   },
   "outputs": [
    {
     "data": {
      "text/plain": [
       "win_A    5864\n",
       "win_B     959\n",
       "draw      282\n",
       "Name: result, dtype: int64"
      ]
     },
     "execution_count": 18,
     "metadata": {},
     "output_type": "execute_result"
    },
    {
     "data": {
      "image/png": "[encoded data removed]",
      "text/plain": [
       "<Figure size 432x288 with 1 Axes>"
      ]
     },
     "metadata": {},
     "output_type": "display_data"
    }
   ],
   "source": [
    "# Explore the distribution of wins\n",
    "\n",
    "df['result'].value_counts().plot(kind='bar', rot=0)\n",
    "plt.title('Result Column Breakdown', fontsize=18)\n",
    "df['result'].value_counts()"
   ]
  },
  {
   "cell_type": "code",
   "execution_count": 39,
   "metadata": {},
   "outputs": [
    {
     "data": {
      "text/plain": [
       "win_A    5864\n",
       "win_B     959\n",
       "Name: result, dtype: int64"
      ]
     },
     "execution_count": 39,
     "metadata": {},
     "output_type": "execute_result"
    },
    {
     "data": {
      "image/png": "[encoded data removed]",
      "text/plain": [
       "<Figure size 432x288 with 1 Axes>"
      ]
     },
     "metadata": {},
     "output_type": "display_data"
    }
   ],
   "source": [
    "# Remove all rows where the result is 'draw,' since these entries only make up about 4% of the results.\n",
    "\n",
    "df = df[df['result'] != 'draw']\n",
    "\n",
    "df['result'].value_counts().plot(kind='bar', rot=0)\n",
    "plt.title('Result Column Breakdown', fontsize=18)\n",
    "df['result'].value_counts()"
   ]
  },
  {
   "cell_type": "markdown",
   "metadata": {},
   "source": [
    "## EXPLORATORY DATA ANALYSIS: EXPLORE PHYSICAL ATTRIBUTE DIFFERENTIALS"
   ]
  },
  {
   "cell_type": "code",
   "execution_count": 20,
   "metadata": {},
   "outputs": [],
   "source": [
    "# Create columns describing the knockout percentage of the two boxers\n",
    "\n",
    "df['percent_kos_A'] = np.where(df['won_A']>0, df['kos_A'] / df['won_A'] * 100, 0)\n",
    "df['percent_kos_B'] = np.where(df['won_B']>0, df['kos_B'] / df['won_B'] * 100, 0)\n",
    "\n",
    "# Create columns for the differentials between the ages, heights, weights, reaches, and kncokout percentages \n",
    "# between Boxer A and Boxer B.\n",
    "\n",
    "df['diff_age'] = df['age_A'] - df['age_B']\n",
    "df['diff_height'] = df['height_A'] - df['height_B']\n",
    "df['diff_weight'] = df['weight_A'] - df['weight_B']\n",
    "df['diff_reach'] = df['reach_A'] - df['reach_B']\n",
    "df['diff_ko_percentage'] = df['percent_kos_A'] - df['percent_kos_B']"
   ]
  },
  {
   "cell_type": "code",
   "execution_count": 21,
   "metadata": {},
   "outputs": [
    {
     "data": {
      "text/plain": [
       "Text(0,0.5,'Difference in K.O. Percentage')"
      ]
     },
     "execution_count": 21,
     "metadata": {},
     "output_type": "execute_result"
    },
    {
     "data": {
      "image/png": "[encoded data removed]",
      "text/plain": [
       "<Figure size 432x288 with 1 Axes>"
      ]
     },
     "metadata": {},
     "output_type": "display_data"
    },
    {
     "data": {
      "image/png": "[encoded data removed]",
      "text/plain": [
       "<Figure size 432x288 with 1 Axes>"
      ]
     },
     "metadata": {},
     "output_type": "display_data"
    },
    {
     "data": {
      "image/png": "[encoded data removed]",
      "text/plain": [
       "<Figure size 432x288 with 1 Axes>"
      ]
     },
     "metadata": {},
     "output_type": "display_data"
    },
    {
     "data": {
      "image/png": "[encoded data removed]",
      "text/plain": [
       "<Figure size 432x288 with 1 Axes>"
      ]
     },
     "metadata": {},
     "output_type": "display_data"
    },
    {
     "data": {
      "image/png": "[encoded data removed]",
      "text/plain": [
       "<Figure size 432x288 with 1 Axes>"
      ]
     },
     "metadata": {},
     "output_type": "display_data"
    }
   ],
   "source": [
    "# Create boxplots showing the distribution of the above 5 columns, separated by the result of the match.\n",
    "\n",
    "df.boxplot(column = 'diff_age', by ='result', fontsize=12)\n",
    "plt.suptitle('')\n",
    "plt.title('Age Differences by Winner of Match', fontsize=20)\n",
    "plt.xlabel('Result', fontsize=15)\n",
    "plt.ylabel('Difference in Age', fontsize=15)\n",
    "\n",
    "df.boxplot(column = 'diff_height', by ='result', fontsize=12)\n",
    "plt.suptitle('')\n",
    "plt.title('Height Differences by Winner of Match', fontsize=20)\n",
    "plt.xlabel('Result', fontsize=15)\n",
    "plt.ylabel('Difference in Height', fontsize=15)\n",
    "\n",
    "df.boxplot(column = 'diff_weight', by ='result', fontsize=12)\n",
    "plt.suptitle('')\n",
    "plt.title('Weight Differences by Winner of Match', fontsize=20)\n",
    "plt.xlabel('Result', fontsize=15)\n",
    "plt.ylabel('Difference in Weight', fontsize=15)\n",
    "\n",
    "df.boxplot(column = 'diff_reach', by ='result', fontsize=12)\n",
    "plt.suptitle('')\n",
    "plt.title('Reach Differences by Winner of Match', fontsize=20)\n",
    "plt.xlabel('Result', fontsize=15)\n",
    "plt.ylabel('Difference in Reach', fontsize=15)\n",
    "\n",
    "df.boxplot(column = 'diff_ko_percentage', by ='result', fontsize=12)\n",
    "plt.suptitle('')\n",
    "plt.title('Knockout Percentage Differences by Winner of Match', fontsize=20)\n",
    "plt.xlabel('Result', fontsize=15)\n",
    "plt.ylabel('Difference in K.O. Percentage', fontsize=15)"
   ]
  },
  {
   "cell_type": "code",
   "execution_count": 22,
   "metadata": {},
   "outputs": [
    {
     "data": {
      "image/png": "[encoded data removed]",
      "text/plain": [
       "<Figure size 432x288 with 1 Axes>"
      ]
     },
     "metadata": {},
     "output_type": "display_data"
    }
   ],
   "source": [
    "# Explore the distribution of age gaps between the boxers where Boxer A won the match\n",
    "\n",
    "mask = df['result'] == 'win_A'\n",
    "\n",
    "df['diff_age'][mask].plot(kind='hist', bins=40)\n",
    "plt.title('Distribution of Age Gaps Between Boxers', fontsize=18)\n",
    "plt.xlabel('Difference in Age Between Boxers A and B', fontsize=14)\n",
    "plt.show()\n"
   ]
  },
  {
   "cell_type": "markdown",
   "metadata": {},
   "source": [
    "## EXPLORATORY DATA ANALYSIS: EXPLORE DESCRIPTIVE STATISTICS OF WINNING BOXERS"
   ]
  },
  {
   "cell_type": "code",
   "execution_count": 9,
   "metadata": {
    "scrolled": true
   },
   "outputs": [
    {
     "data": {
      "text/html": [
       "<div>\n",
       "<style scoped>\n",
       "    .dataframe tbody tr th:only-of-type {\n",
       "        vertical-align: middle;\n",
       "    }\n",
       "\n",
       "    .dataframe tbody tr th {\n",
       "        vertical-align: top;\n",
       "    }\n",
       "\n",
       "    .dataframe thead th {\n",
       "        text-align: right;\n",
       "    }\n",
       "</style>\n",
       "<table border=\"1\" class=\"dataframe\">\n",
       "  <thead>\n",
       "    <tr style=\"text-align: right;\">\n",
       "      <th></th>\n",
       "      <th>diff_age</th>\n",
       "      <th>diff_height</th>\n",
       "      <th>diff_weight</th>\n",
       "      <th>diff_reach</th>\n",
       "      <th>diff_ko_percentage</th>\n",
       "    </tr>\n",
       "  </thead>\n",
       "  <tbody>\n",
       "    <tr>\n",
       "      <th>count</th>\n",
       "      <td>5864.000000</td>\n",
       "      <td>5864.000000</td>\n",
       "      <td>5864.000000</td>\n",
       "      <td>5864.000000</td>\n",
       "      <td>5864.000000</td>\n",
       "    </tr>\n",
       "    <tr>\n",
       "      <th>mean</th>\n",
       "      <td>-2.081003</td>\n",
       "      <td>0.940655</td>\n",
       "      <td>-0.224932</td>\n",
       "      <td>1.097885</td>\n",
       "      <td>5.918643</td>\n",
       "    </tr>\n",
       "    <tr>\n",
       "      <th>std</th>\n",
       "      <td>5.991132</td>\n",
       "      <td>6.801658</td>\n",
       "      <td>14.718452</td>\n",
       "      <td>9.656878</td>\n",
       "      <td>28.411524</td>\n",
       "    </tr>\n",
       "    <tr>\n",
       "      <th>min</th>\n",
       "      <td>-22.000000</td>\n",
       "      <td>-25.000000</td>\n",
       "      <td>-115.000000</td>\n",
       "      <td>-34.000000</td>\n",
       "      <td>-100.000000</td>\n",
       "    </tr>\n",
       "    <tr>\n",
       "      <th>25%</th>\n",
       "      <td>-6.000000</td>\n",
       "      <td>-3.000000</td>\n",
       "      <td>-1.000000</td>\n",
       "      <td>-5.000000</td>\n",
       "      <td>-10.922630</td>\n",
       "    </tr>\n",
       "    <tr>\n",
       "      <th>50%</th>\n",
       "      <td>-2.000000</td>\n",
       "      <td>1.000000</td>\n",
       "      <td>0.000000</td>\n",
       "      <td>1.000000</td>\n",
       "      <td>4.761905</td>\n",
       "    </tr>\n",
       "    <tr>\n",
       "      <th>75%</th>\n",
       "      <td>2.000000</td>\n",
       "      <td>5.000000</td>\n",
       "      <td>1.000000</td>\n",
       "      <td>7.000000</td>\n",
       "      <td>22.299331</td>\n",
       "    </tr>\n",
       "    <tr>\n",
       "      <th>max</th>\n",
       "      <td>21.000000</td>\n",
       "      <td>24.000000</td>\n",
       "      <td>113.000000</td>\n",
       "      <td>36.000000</td>\n",
       "      <td>100.000000</td>\n",
       "    </tr>\n",
       "  </tbody>\n",
       "</table>\n",
       "</div>"
      ],
      "text/plain": [
       "          diff_age  diff_height  diff_weight   diff_reach  diff_ko_percentage\n",
       "count  5864.000000  5864.000000  5864.000000  5864.000000         5864.000000\n",
       "mean     -2.081003     0.940655    -0.224932     1.097885            5.918643\n",
       "std       5.991132     6.801658    14.718452     9.656878           28.411524\n",
       "min     -22.000000   -25.000000  -115.000000   -34.000000         -100.000000\n",
       "25%      -6.000000    -3.000000    -1.000000    -5.000000          -10.922630\n",
       "50%      -2.000000     1.000000     0.000000     1.000000            4.761905\n",
       "75%       2.000000     5.000000     1.000000     7.000000           22.299331\n",
       "max      21.000000    24.000000   113.000000    36.000000          100.000000"
      ]
     },
     "execution_count": 9,
     "metadata": {},
     "output_type": "execute_result"
    }
   ],
   "source": [
    "# Explore the statistics of winning Boxer A's\n",
    "\n",
    "df.loc[:,['diff_age','diff_height','diff_weight','diff_reach', 'diff_ko_percentage']][mask].describe()"
   ]
  },
  {
   "cell_type": "markdown",
   "metadata": {},
   "source": [
    "## EXPLORATORY DATA ANALYSIS: EXPLORE PHYSICAL ATTRIBUTE DIFFERENTIALS VS. OCCURRENCE OF KNOCKOUTS"
   ]
  },
  {
   "cell_type": "code",
   "execution_count": 23,
   "metadata": {},
   "outputs": [],
   "source": [
    "# Create a column that characterizes the result of each match\n",
    "\n",
    "def characterize_result(string):\n",
    "    \n",
    "    if string in ['TKO','KO']:\n",
    "        return 'Knockout'\n",
    "    elif string in ['UD', 'SD', 'MD']:\n",
    "        return 'Judge Decision'\n",
    "    else:\n",
    "        return 'Other'\n",
    "    \n",
    "df['decision_cat'] = df['decision'].apply(characterize_result)"
   ]
  },
  {
   "cell_type": "code",
   "execution_count": 29,
   "metadata": {
    "scrolled": true
   },
   "outputs": [
    {
     "data": {
      "text/plain": [
       "Text(0.5,1,'Weight Difference vs. the Occurrence of Knockouts')"
      ]
     },
     "execution_count": 29,
     "metadata": {},
     "output_type": "execute_result"
    },
    {
     "data": {
      "image/png": "[encoded data removed]",
      "text/plain": [
       "<Figure size 432x288 with 1 Axes>"
      ]
     },
     "metadata": {},
     "output_type": "display_data"
    }
   ],
   "source": [
    "# Create an x-array that contains every differential in the diff_weight column.\n",
    "# Create a y-array that determines the percentage of matches resulting in knockout.\n",
    "\n",
    "weight_diffs = np.arange(min(abs(df['diff_weight'])),max(abs(df['diff_weight'])))\n",
    "weight_ko_percents = np.empty(len(weight_diffs))\n",
    "    \n",
    "for index, val in enumerate(weight_diffs):\n",
    "        \n",
    "    df_vals = df[abs(df['diff_weight'])>=val]['decision_cat'].value_counts()\n",
    "    if 'Knockout' in df_vals.index:\n",
    "        weight_ko_percents[index] = df_vals.loc['Knockout'] / df_vals.sum()\n",
    "    else:\n",
    "        weight_ko_percents[index] = 0\n",
    "        \n",
    "# Create a scatterplot of the two arrays\n",
    "        \n",
    "plt.plot(weight_diffs,weight_ko_percents,marker='.',linestyle='none')\n",
    "plt.ylim(0,1)\n",
    "plt.xlabel('Minimum Weight Difference', fontsize=15)\n",
    "plt.ylabel('% Resulting in Knockout', fontsize=15)\n",
    "plt.title('Weight Difference vs. the Occurrence of Knockouts',fontsize=20)"
   ]
  },
  {
   "cell_type": "code",
   "execution_count": 30,
   "metadata": {},
   "outputs": [
    {
     "data": {
      "text/plain": [
       "Text(0.5,1,'Minimum Age Difference vs. the Occurrence of Knockouts')"
      ]
     },
     "execution_count": 30,
     "metadata": {},
     "output_type": "execute_result"
    },
    {
     "data": {
      "image/png": "[encoded data removed]",
      "text/plain": [
       "<Figure size 432x288 with 1 Axes>"
      ]
     },
     "metadata": {},
     "output_type": "display_data"
    }
   ],
   "source": [
    "# Create an x-array that contains every differential in the diff_age column.\n",
    "# Create a y-array that determines the percentage of matches resulting in knockout.\n",
    "\n",
    "age_diffs = np.arange(min(abs(df['diff_age'])),max(abs(df['diff_age'])))\n",
    "age_ko_percents = np.empty(len(age_diffs))\n",
    "    \n",
    "for index, val in enumerate(age_diffs):\n",
    "        \n",
    "    df_vals = df[abs(df['diff_age'])>=val]['decision_cat'].value_counts()\n",
    "    if 'Knockout' in df_vals.index:\n",
    "        age_ko_percents[index] = df_vals.loc['Knockout'] / df_vals.sum()\n",
    "    else:\n",
    "        age_ko_percents[index] = 0\n",
    "        \n",
    "# Create a scatterplot of the two arrays\n",
    "        \n",
    "plt.plot(age_diffs,age_ko_percents,marker='.',linestyle='none')\n",
    "plt.ylim(0,1)\n",
    "plt.xlabel('Weight Difference', fontsize=15)\n",
    "plt.ylabel('% Resulting in Knockout', fontsize=15)\n",
    "plt.title('Minimum Age Difference vs. the Occurrence of Knockouts',fontsize=20)"
   ]
  },
  {
   "cell_type": "code",
   "execution_count": 31,
   "metadata": {},
   "outputs": [
    {
     "data": {
      "text/plain": [
       "Text(0.5,1,'Minimum Height Difference vs. the Occurrence of Knockouts')"
      ]
     },
     "execution_count": 31,
     "metadata": {},
     "output_type": "execute_result"
    },
    {
     "data": {
      "image/png": "[encoded data removed]",
      "text/plain": [
       "<Figure size 432x288 with 1 Axes>"
      ]
     },
     "metadata": {},
     "output_type": "display_data"
    }
   ],
   "source": [
    "# Create an x-array that contains every differential in the diff_height column.\n",
    "# Create a y-array that determines the percentage of matches resulting in knockout.\n",
    "\n",
    "height_diffs = np.arange(min(abs(df['diff_height'])),max(abs(df['diff_height'])))\n",
    "height_ko_percents = np.empty(len(height_diffs))\n",
    "    \n",
    "for index, val in enumerate(height_diffs):\n",
    "        \n",
    "    df_vals = df[abs(df['diff_height'])>=val]['decision_cat'].value_counts()\n",
    "    if 'Knockout' in df_vals.index:\n",
    "        height_ko_percents[index] = df_vals.loc['Knockout'] / df_vals.sum()\n",
    "    else:\n",
    "        height_ko_percents[index] = 0\n",
    "        \n",
    "# Create a scatterplot of the two arrays\n",
    "        \n",
    "plt.plot(height_diffs,height_ko_percents,marker='.',linestyle='none')\n",
    "plt.ylim(0,1)\n",
    "plt.xlabel('Height Difference', fontsize=15)\n",
    "plt.ylabel('% Resulting in Knockout', fontsize=15)\n",
    "plt.title('Minimum Height Difference vs. the Occurrence of Knockouts',fontsize=20)"
   ]
  },
  {
   "cell_type": "code",
   "execution_count": 32,
   "metadata": {
    "scrolled": true
   },
   "outputs": [
    {
     "data": {
      "text/plain": [
       "Text(0.5,1,'Minimum Reach Difference vs. the Occurrence of Knockouts')"
      ]
     },
     "execution_count": 32,
     "metadata": {},
     "output_type": "execute_result"
    },
    {
     "data": {
      "image/png": "[encoded data removed]",
      "text/plain": [
       "<Figure size 432x288 with 1 Axes>"
      ]
     },
     "metadata": {},
     "output_type": "display_data"
    }
   ],
   "source": [
    "# Create an x-array that contains every differential in the diff_reach column.\n",
    "# Create a y-array that determines the percentage of matches resulting in knockout.\n",
    "\n",
    "reach_diffs = np.arange(min(abs(df['diff_reach'])),max(abs(df['diff_reach'])))\n",
    "reach_ko_percents = np.empty(len(reach_diffs))\n",
    "    \n",
    "for index, val in enumerate(reach_diffs):\n",
    "        \n",
    "    df_vals = df[abs(df['diff_reach'])>=val]['decision_cat'].value_counts()\n",
    "    if 'Knockout' in df_vals.index:\n",
    "        reach_ko_percents[index] = df_vals.loc['Knockout'] / df_vals.sum()\n",
    "    else:\n",
    "        reach_ko_percents[index] = 0\n",
    "        \n",
    "# Create a scatterplot of the two arrays\n",
    "        \n",
    "plt.plot(reach_diffs,reach_ko_percents,marker='.',linestyle='none')\n",
    "plt.ylim(0,1)\n",
    "plt.xlabel('Reach Difference', fontsize=15)\n",
    "plt.ylabel('% Resulting in Knockout', fontsize=15)\n",
    "plt.title('Minimum Reach Difference vs. the Occurrence of Knockouts',fontsize=20)"
   ]
  },
  {
   "cell_type": "markdown",
   "metadata": {},
   "source": [
    "## INFERENTIAL STATISTICS: DIFFERENCES IN PHYSICAL ATTRIBUTES"
   ]
  },
  {
   "cell_type": "code",
   "execution_count": 34,
   "metadata": {},
   "outputs": [],
   "source": [
    "# Define a function for computing permutation samples\n",
    "\n",
    "def permutation_sample(data1, data2):\n",
    "\n",
    "    data = np.concatenate((data1, data2))\n",
    "\n",
    "    permuted_data = np.random.permutation(data)\n",
    "\n",
    "    perm_sample_1 = permuted_data[:len(data1)]\n",
    "    perm_sample_2 = permuted_data[len(data1):]\n",
    "\n",
    "    return perm_sample_1, perm_sample_2\n",
    "\n",
    "# Define a function for computing multiple permutation replicates\n",
    "\n",
    "def draw_perm_reps(data_1, data_2, func, size=1):\n",
    "\n",
    "    perm_replicates = np.empty(size)\n",
    "\n",
    "    for i in range(size):\n",
    "\n",
    "        perm_sample_1, perm_sample_2 = permutation_sample(data_1,data_2)\n",
    "\n",
    "        perm_replicates[i] = func(perm_sample_1, perm_sample_2)\n",
    "\n",
    "    return perm_replicates\n",
    "\n",
    "# Define a function that computes the difference in sample means\n",
    "\n",
    "def diff_of_means(sample1, sample2):\n",
    "    \n",
    "    diff = np.mean(sample1) - np.mean(sample2)\n",
    "    \n",
    "    return diff\n",
    "\n",
    "# Define a function that runs a permutation hypothesis test between two columns of the DataFrame:\n",
    "# one where Boxer A is the winner, and the other where Boxer B is the winner\n",
    "\n",
    "def perm_test_phys(col, comparison = 'less'):\n",
    "    \n",
    "    array1 = np.array(df[df['result']=='win_A'][col])\n",
    "    array2 = np.array(df[df['result']=='win_B'][col])\n",
    "    \n",
    "    empirical_diff = diff_of_means(array1, array2)\n",
    "    \n",
    "    perm_reps = draw_perm_reps(array1, array2, diff_of_means, size=10000)\n",
    "    \n",
    "    if comparison=='less':\n",
    "        p = np.sum(perm_reps <= empirical_diff) / len(perm_reps)\n",
    "    elif comparison=='greater':\n",
    "        p = np.sum(perm_reps >= empirical_diff) / len(perm_reps)\n",
    "        \n",
    "    return p\n",
    "    \n",
    "    \n",
    "    \n",
    "    "
   ]
  },
  {
   "cell_type": "code",
   "execution_count": 18,
   "metadata": {},
   "outputs": [
    {
     "name": "stdout",
     "output_type": "stream",
     "text": [
      "The p-value for this test is: 0.6488\n"
     ]
    }
   ],
   "source": [
    "### HYPOTHESIS TEST 1: Does the difference in weight have any relationship with the winner of the match?\n",
    "\n",
    "print('The p-value for this test is:', perm_test_phys('diff_weight'))"
   ]
  },
  {
   "cell_type": "code",
   "execution_count": 19,
   "metadata": {},
   "outputs": [
    {
     "name": "stdout",
     "output_type": "stream",
     "text": [
      "The p-value for this test is: 0.0\n"
     ]
    }
   ],
   "source": [
    "### HYPOTHESIS TEST 2: Does the difference in height have any relationship with the winner of the match?\n",
    "\n",
    "print('The p-value for this test is:', perm_test_phys('diff_height', 'greater'))"
   ]
  },
  {
   "cell_type": "code",
   "execution_count": 20,
   "metadata": {},
   "outputs": [
    {
     "name": "stdout",
     "output_type": "stream",
     "text": [
      "The p-value for this test is: 0.0\n"
     ]
    }
   ],
   "source": [
    "### HYPOTHESIS TEST 3: Does the difference in reach have any relationship with the winner of the match?\n",
    "\n",
    "print('The p-value for this test is:', perm_test_phys('diff_reach', 'greater'))"
   ]
  },
  {
   "cell_type": "code",
   "execution_count": 21,
   "metadata": {},
   "outputs": [
    {
     "name": "stdout",
     "output_type": "stream",
     "text": [
      "The p-value for this test is: 0.0\n"
     ]
    }
   ],
   "source": [
    "### HYPOTHESIS TEST 4: Does the difference in age have any relationship with the winner of the match?\n",
    "\n",
    "print('The p-value for this test is:', perm_test_phys('diff_age'))"
   ]
  },
  {
   "cell_type": "code",
   "execution_count": 22,
   "metadata": {},
   "outputs": [
    {
     "name": "stdout",
     "output_type": "stream",
     "text": [
      "The p-value for this test is: 0.0\n"
     ]
    }
   ],
   "source": [
    "### HYPOTHESIS TEST 5: Does the difference in knockout percentage have any relationship with the winner of the match?\n",
    "\n",
    "print('The p-value for this test is:', perm_test_phys('diff_ko_percentage', 'greater'))"
   ]
  },
  {
   "cell_type": "markdown",
   "metadata": {},
   "source": [
    "## INFERENTIAL STATISTICS: CORRELATION BETWEEN PHYSICAL ATTRIBUTE DIFFERENTIALS AND PERCENTAGE OF MATCHES RESULTING IN KNOCKOUT"
   ]
  },
  {
   "cell_type": "code",
   "execution_count": 35,
   "metadata": {},
   "outputs": [],
   "source": [
    "# Define a function for computing the pearson correlation coefficient between two variables.\n",
    "\n",
    "def pearson_r(x,y):\n",
    "    \n",
    "    corr_mat = np.corrcoef(x,y)\n",
    "\n",
    "    return corr_mat[0,1]\n",
    "\n",
    "# Define a function that computes the p-value for a test of correlation\n",
    "\n",
    "def corr_test(col1, col2):\n",
    "    \n",
    "    array1 = np.array(col1)\n",
    "    array2 = np.array(col2)\n",
    "    \n",
    "    r_observed = pearson_r(array1, array2)\n",
    "    \n",
    "    perm_reps = np.empty(10000)\n",
    "\n",
    "    for i in range(10000):\n",
    "    \n",
    "        array1_permuted = np.random.permutation(array1)\n",
    "\n",
    "        perm_reps[i] = pearson_r(array1_permuted, array2)\n",
    "    \n",
    "    p = np.sum(perm_reps >= r_observed)/len(perm_reps)\n",
    "    \n",
    "    return p"
   ]
  },
  {
   "cell_type": "code",
   "execution_count": 37,
   "metadata": {},
   "outputs": [
    {
     "name": "stdout",
     "output_type": "stream",
     "text": [
      "The p-value for the test of correlation between the age differentials and the percent of matches resulting in K.O. is: 0.0\n",
      "The observed correlation between these two variables is: 0.7314300150292063\n",
      "The p-value for the test of correlation between the height differentials and the percent of matches resulting in K.O. is: 0.3064\n",
      "The observed correlation between these two variables is: 0.10378428603967385\n",
      "The p-value for the test of correlation between the weight differentials and the percent of matches resulting in K.O. is: 0.0\n",
      "The observed correlation between these two variables is: 0.7483694114967736\n",
      "The p-value for the test of correlation between the reach differentials and the percent of matches resulting in K.O. is: 0.0\n",
      "The observed correlation between these two variables is: 0.6190013425061962\n"
     ]
    }
   ],
   "source": [
    "### TESTS OF CORRELATION\n",
    "\n",
    "print('The p-value for the test of correlation between the age differentials and the percent of matches resulting in K.O. is:', corr_test(age_diffs, age_ko_percents))\n",
    "print('The observed correlation between these two variables is:', pearson_r(age_diffs, age_ko_percents))\n",
    "\n",
    "print('The p-value for the test of correlation between the height differentials and the percent of matches resulting in K.O. is:', corr_test(height_diffs, height_ko_percents))\n",
    "print('The observed correlation between these two variables is:', pearson_r(height_diffs, height_ko_percents))\n",
    "\n",
    "print('The p-value for the test of correlation between the weight differentials and the percent of matches resulting in K.O. is:', corr_test(weight_diffs, weight_ko_percents))\n",
    "print('The observed correlation between these two variables is:', pearson_r(weight_diffs, weight_ko_percents))\n",
    "\n",
    "print('The p-value for the test of correlation between the reach differentials and the percent of matches resulting in K.O. is:', corr_test(reach_diffs, reach_ko_percents))\n",
    "print('The observed correlation between these two variables is:', pearson_r(reach_diffs, reach_ko_percents))"
   ]
  },
  {
   "cell_type": "markdown",
   "metadata": {},
   "source": [
    "## Machine Learning: Using numerical columns to predict the winner of the match"
   ]
  },
  {
   "cell_type": "code",
   "execution_count": 3,
   "metadata": {},
   "outputs": [],
   "source": [
    "from sklearn.model_selection import train_test_split, GridSearchCV\n",
    "from sklearn.linear_model import LogisticRegression\n",
    "from sklearn.tree import DecisionTreeClassifier\n",
    "from sklearn.svm import SVC\n",
    "from sklearn.metrics import classification_report, roc_curve\n",
    "from sklearn.preprocessing import scale\n",
    "from imblearn.over_sampling import SMOTE, RandomOverSampler\n",
    "from imblearn.under_sampling import ClusterCentroids"
   ]
  },
  {
   "cell_type": "code",
   "execution_count": 6,
   "metadata": {},
   "outputs": [
    {
     "name": "stderr",
     "output_type": "stream",
     "text": [
      "C:\\Users\\Taylor\\Anaconda3\\lib\\site-packages\\sklearn\\utils\\deprecation.py:77: DeprecationWarning: Function _ratio_float is deprecated; Use a float for 'ratio' is deprecated from version 0.2. The support will be removed in 0.4. Use a dict, str, or a callable instead.\n",
      "  warnings.warn(msg, category=DeprecationWarning)\n"
     ]
    }
   ],
   "source": [
    "# Split the data into three training/test sets using ROS, SMOTE, and ClusterCentroids for resampling.\n",
    "\n",
    "X = df[['diff_age','diff_height','diff_reach', 'diff_ko_percentage']].values\n",
    "y = (df['result'] == 'win_A').values\n",
    "\n",
    "ros = RandomOverSampler(random_state=0)\n",
    "X_ros, y_ros = ros.fit_sample(X,y)\n",
    "X_train_ros, X_test_ros, y_train_ros, y_test_ros = train_test_split(X_ros, y_ros, test_size = 0.3, random_state=42)\n",
    "\n",
    "sm = SMOTE(random_state=12, ratio=1.0)\n",
    "X_sm, y_sm = sm.fit_sample(X,y)\n",
    "X_train_sm, X_test_sm, y_train_sm, y_test_sm = train_test_split(X_sm, y_sm, test_size = 0.3, random_state=42)\n",
    "\n",
    "cc = ClusterCentroids(random_state=15)\n",
    "X_cc, y_cc = cc.fit_sample(X,y)\n",
    "X_train_cc, X_test_cc, y_train_cc, y_test_cc = train_test_split(X_cc, y_cc, test_size = 0.3, random_state=42)"
   ]
  },
  {
   "cell_type": "code",
   "execution_count": 7,
   "metadata": {},
   "outputs": [
    {
     "name": "stdout",
     "output_type": "stream",
     "text": [
      "The accuracy score on our test data is: 0.6297243535095197\n",
      "             precision    recall  f1-score   support\n",
      "\n",
      "      False       0.64      0.61      0.63      1775\n",
      "       True       0.62      0.65      0.63      1744\n",
      "\n",
      "avg / total       0.63      0.63      0.63      3519\n",
      "\n"
     ]
    }
   ],
   "source": [
    "### Logistic Regression\n",
    "\n",
    "# Use GridSearch to tune the C parameter, fit to the training data, and predict using the testing data\n",
    "\n",
    "c_space = np.logspace(-5,8,15)\n",
    "params = {'C': c_space}\n",
    "\n",
    "logreg = LogisticRegression()\n",
    "\n",
    "np.random.seed(42)\n",
    "\n",
    "logreg_cv = GridSearchCV(logreg, params, cv=5)\n",
    "logreg_cv.fit(X_train_ros, y_train_ros)\n",
    "\n",
    "log_pred = logreg_cv.predict(X_test_ros)\n",
    "\n",
    "# Print the accuracy score and classification report\n",
    "\n",
    "print('The accuracy score on our test data is:', logreg_cv.score(X_test_ros, y_test_ros))\n",
    "\n",
    "print(classification_report(y_test_ros, log_pred))"
   ]
  },
  {
   "cell_type": "code",
   "execution_count": 8,
   "metadata": {},
   "outputs": [
    {
     "name": "stdout",
     "output_type": "stream",
     "text": [
      "The accuracy score on our test data is: 0.6371128161409492\n",
      "             precision    recall  f1-score   support\n",
      "\n",
      "      False       0.64      0.63      0.64      1775\n",
      "       True       0.63      0.64      0.64      1744\n",
      "\n",
      "avg / total       0.64      0.64      0.64      3519\n",
      "\n"
     ]
    }
   ],
   "source": [
    "### Logistic Regression\n",
    "\n",
    "# Use GridSearch to tune the C parameter, fit to the training data, and predict using the testing data\n",
    "\n",
    "c_space = np.logspace(-5,8,15)\n",
    "params = {'C': c_space}\n",
    "\n",
    "logreg = LogisticRegression()\n",
    "\n",
    "np.random.seed(42)\n",
    "\n",
    "logreg_cv = GridSearchCV(logreg, params, cv=5)\n",
    "logreg_cv.fit(X_train_sm, y_train_sm)\n",
    "\n",
    "log_pred = logreg_cv.predict(X_test_sm)\n",
    "\n",
    "# Print the accuracy score and classification report\n",
    "\n",
    "print('The accuracy score on our test data is:', logreg_cv.score(X_test_sm, y_test_sm))\n",
    "\n",
    "print(classification_report(y_test_sm, log_pred))"
   ]
  },
  {
   "cell_type": "code",
   "execution_count": 9,
   "metadata": {},
   "outputs": [
    {
     "name": "stdout",
     "output_type": "stream",
     "text": [
      "The accuracy score on our test data is: 0.6128472222222222\n",
      "             precision    recall  f1-score   support\n",
      "\n",
      "      False       0.62      0.60      0.61       290\n",
      "       True       0.61      0.63      0.62       286\n",
      "\n",
      "avg / total       0.61      0.61      0.61       576\n",
      "\n"
     ]
    }
   ],
   "source": [
    "### Logistic Regression\n",
    "\n",
    "# Use GridSearch to tune the C parameter, fit to the training data, and predict using the testing data\n",
    "\n",
    "c_space = np.logspace(-5,8,15)\n",
    "params = {'C': c_space}\n",
    "\n",
    "logreg = LogisticRegression()\n",
    "\n",
    "np.random.seed(42)\n",
    "\n",
    "logreg_cv = GridSearchCV(logreg, params, cv=5)\n",
    "logreg_cv.fit(X_train_cc, y_train_cc)\n",
    "\n",
    "log_pred = logreg_cv.predict(X_test_cc)\n",
    "\n",
    "# Print the accuracy score and classification report\n",
    "\n",
    "print('The accuracy score on our test data is:', logreg_cv.score(X_test_cc, y_test_cc))\n",
    "\n",
    "print(classification_report(y_test_cc, log_pred))"
   ]
  },
  {
   "cell_type": "code",
   "execution_count": 10,
   "metadata": {},
   "outputs": [
    {
     "name": "stdout",
     "output_type": "stream",
     "text": [
      "The accuracy score on our test data is: 0.9190110826939472\n",
      "             precision    recall  f1-score   support\n",
      "\n",
      "      False       0.87      0.99      0.93      1775\n",
      "       True       0.99      0.85      0.91      1744\n",
      "\n",
      "avg / total       0.93      0.92      0.92      3519\n",
      "\n"
     ]
    }
   ],
   "source": [
    "### Decision tree\n",
    "\n",
    "tree = DecisionTreeClassifier()\n",
    "\n",
    "# Fit the decision tree to the training data\n",
    "\n",
    "tree.fit(X_train_ros, y_train_ros)\n",
    "\n",
    "tree_pred = tree.predict(X_test_ros)\n",
    "\n",
    "# Print the accuracy score and classification report\n",
    "\n",
    "print('The accuracy score on our test data is:', tree.score(X_test_ros, y_test_ros))\n",
    "\n",
    "print(classification_report(y_test_ros, tree_pred))"
   ]
  },
  {
   "cell_type": "code",
   "execution_count": 11,
   "metadata": {},
   "outputs": [
    {
     "name": "stdout",
     "output_type": "stream",
     "text": [
      "The accuracy score on our test data is: 0.8653026427962489\n",
      "             precision    recall  f1-score   support\n",
      "\n",
      "      False       0.85      0.88      0.87      1775\n",
      "       True       0.88      0.85      0.86      1744\n",
      "\n",
      "avg / total       0.87      0.87      0.87      3519\n",
      "\n"
     ]
    }
   ],
   "source": [
    "### Decision tree\n",
    "\n",
    "tree = DecisionTreeClassifier()\n",
    "\n",
    "# Fit the decision tree to the training data\n",
    "\n",
    "tree.fit(X_train_sm, y_train_sm)\n",
    "\n",
    "tree_pred = tree.predict(X_test_sm)\n",
    "\n",
    "# Print the accuracy score and classification report\n",
    "\n",
    "print('The accuracy score on our test data is:', tree.score(X_test_sm, y_test_sm))\n",
    "\n",
    "print(classification_report(y_test_sm, tree_pred))"
   ]
  },
  {
   "cell_type": "code",
   "execution_count": 12,
   "metadata": {},
   "outputs": [
    {
     "name": "stdout",
     "output_type": "stream",
     "text": [
      "The accuracy score on our test data is: 0.7239583333333334\n",
      "             precision    recall  f1-score   support\n",
      "\n",
      "      False       0.72      0.74      0.73       290\n",
      "       True       0.73      0.70      0.72       286\n",
      "\n",
      "avg / total       0.72      0.72      0.72       576\n",
      "\n"
     ]
    }
   ],
   "source": [
    "### Decision tree\n",
    "\n",
    "tree = DecisionTreeClassifier()\n",
    "\n",
    "# Fit the decision tree to the training data\n",
    "\n",
    "tree.fit(X_train_cc, y_train_cc)\n",
    "\n",
    "tree_pred = tree.predict(X_test_cc)\n",
    "\n",
    "# Print the accuracy score and classification report\n",
    "\n",
    "print('The accuracy score on our test data is:', tree.score(X_test_cc, y_test_cc))\n",
    "\n",
    "print(classification_report(y_test_cc, tree_pred))"
   ]
  },
  {
   "cell_type": "code",
   "execution_count": 8,
   "metadata": {},
   "outputs": [
    {
     "name": "stdout",
     "output_type": "stream",
     "text": [
      "The accuracy score on our test data is: 0.9931798806479113\n",
      "             precision    recall  f1-score   support\n",
      "\n",
      "      False       1.00      0.99      0.99      1775\n",
      "       True       0.99      1.00      0.99      1744\n",
      "\n",
      "avg / total       0.99      0.99      0.99      3519\n",
      "\n"
     ]
    }
   ],
   "source": [
    "### SVM\n",
    "\n",
    "# Use GridSearch to tune the C, kernel, and gamma parameters, fit to the training data, and predict using the testing data.\n",
    "\n",
    "c_space = [0.1, 1, 10, 100]\n",
    "kernel_space = ['linear', 'rbf']\n",
    "gamma_space = [0.1, 1, 10, 100]\n",
    "\n",
    "params = {'C': c_space, 'kernel': kernel_space, 'gamma': gamma_space}\n",
    "\n",
    "svc = SVC()\n",
    "\n",
    "np.random.seed(42)\n",
    "\n",
    "svc_cv = GridSearchCV(svc, params, cv=5)\n",
    "svc_cv.fit(X_train_ros, y_train_ros)\n",
    "\n",
    "svc_pred = svc_cv.predict(X_test_ros)\n",
    "\n",
    "# Print the accuracy score and classification report\n",
    "\n",
    "print('The accuracy score on our test data is:', svc_cv.score(X_test_ros, y_test_ros))\n",
    "\n",
    "print(classification_report(y_test_ros, svc_pred))"
   ]
  },
  {
   "cell_type": "code",
   "execution_count": 11,
   "metadata": {},
   "outputs": [
    {
     "name": "stdout",
     "output_type": "stream",
     "text": [
      "The accuracy score on our test data is: 0.8971298664393293\n",
      "             precision    recall  f1-score   support\n",
      "\n",
      "      False       0.87      0.93      0.90      1775\n",
      "       True       0.92      0.86      0.89      1744\n",
      "\n",
      "avg / total       0.90      0.90      0.90      3519\n",
      "\n"
     ]
    }
   ],
   "source": [
    "### SVM\n",
    "\n",
    "# Use GridSearch to tune the C, kernel, and gamma parameters, fit to the training data, and predict using the testing data.\n",
    "\n",
    "c_space = [0.1, 1, 10, 100]\n",
    "kernel_space = ['rbf','linear']\n",
    "gamma_space = [0.1, 1, 10, 100]\n",
    "\n",
    "params = {'C': c_space, 'kernel': kernel_space, 'gamma': gamma_space}\n",
    "\n",
    "svc = SVC()\n",
    "\n",
    "np.random.seed(42)\n",
    "\n",
    "svc_cv = GridSearchCV(svc, params, cv=5)\n",
    "svc_cv.fit(X_train_sm, y_train_sm)\n",
    "\n",
    "svc_pred = svc_cv.predict(X_test_sm)\n",
    "\n",
    "# Print the accuracy score and classification report\n",
    "\n",
    "print('The accuracy score on our test data is:', svc_cv.score(X_test_sm, y_test_sm))\n",
    "\n",
    "print(classification_report(y_test_sm, svc_pred))"
   ]
  },
  {
   "cell_type": "code",
   "execution_count": 12,
   "metadata": {},
   "outputs": [
    {
     "name": "stdout",
     "output_type": "stream",
     "text": [
      "The accuracy score on our test data is: 0.6163194444444444\n",
      "             precision    recall  f1-score   support\n",
      "\n",
      "      False       0.61      0.66      0.63       290\n",
      "       True       0.62      0.57      0.60       286\n",
      "\n",
      "avg / total       0.62      0.62      0.62       576\n",
      "\n"
     ]
    }
   ],
   "source": [
    "### SVM\n",
    "\n",
    "# Use GridSearch to tune the C, kernel, and gamma parameters, fit to the training data, and predict using the testing data.\n",
    "\n",
    "c_space = [0.1, 1, 10, 100]\n",
    "kernel_space = ['rbf','linear']\n",
    "gamma_space = [0.1, 1, 10, 100]\n",
    "\n",
    "params = {'C': c_space, 'kernel': kernel_space, 'gamma': gamma_space}\n",
    "\n",
    "svc = SVC()\n",
    "\n",
    "np.random.seed(42)\n",
    "\n",
    "svc_cv = GridSearchCV(svc, params, cv=5)\n",
    "svc_cv.fit(X_train_cc, y_train_cc)\n",
    "\n",
    "svc_pred = svc_cv.predict(X_test_cc)\n",
    "\n",
    "# Print the accuracy score and classification report\n",
    "\n",
    "print('The accuracy score on our test data is:', svc_cv.score(X_test_cc, y_test_cc))\n",
    "\n",
    "print(classification_report(y_test_cc, svc_pred))"
   ]
  },
  {
   "cell_type": "code",
   "execution_count": null,
   "metadata": {},
   "outputs": [],
   "source": []
  }
 ],
 "metadata": {
  "kernelspec": {
   "display_name": "Python 3",
   "language": "python",
   "name": "python3"
  },
  "language_info": {
   "codemirror_mode": {
    "name": "ipython",
    "version": 3
   },
   "file_extension": ".py",
   "mimetype": "text/x-python",
   "name": "python",
   "nbconvert_exporter": "python",
   "pygments_lexer": "ipython3",
   "version": "3.6.5"
  }
 },
 "nbformat": 4,
 "nbformat_minor": 2
}
